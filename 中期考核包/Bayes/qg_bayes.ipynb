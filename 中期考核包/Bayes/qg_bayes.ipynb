{
 "cells": [
  {
   "cell_type": "code",
   "execution_count": 1,
   "metadata": {},
   "outputs": [],
   "source": [
    "from my_Bayes import *"
   ]
  },
  {
   "cell_type": "code",
   "execution_count": 2,
   "metadata": {},
   "outputs": [],
   "source": [
    "def get_data(init_num, last_num):\n",
    "    \"\"\"\n",
    "    读取文件，获得数据\n",
    "    :param init_num: 开始文件的标号，int\n",
    "    :param last_num: 结束文件的标号，int\n",
    "    :return: 词袋矩阵list，以及对样本标签list\n",
    "    \"\"\"\n",
    "    stop_symbol = [',', '?', '!', '(', ')', '.', ':', '\"', '.', '抮']\n",
    "    with open(\"stop_word.txt\", 'r') as f:\n",
    "        stop_word_list = [data.strip('\\n') for data in f.readlines()]  # 读取邮件文本内容\n",
    "    list_email, list_class= [], []  # list_email存放各个样本包含的词， list_class存放样本的标签\n",
    "    i = init_num\n",
    "    while i < last_num:\n",
    "        with open(\"emil/ham/\" + str(i) + \".txt\", 'r') as f:\n",
    "            data_list = []\n",
    "            for word in f.read().split():\n",
    "                for symbol in stop_symbol:\n",
    "                    word = word.replace(symbol, \"\")  # 先去掉一些符号镶嵌，包含一些奇奇怪怪的组合\n",
    "                if word in stop_word_list:  # 去掉停用词\n",
    "                    continue\n",
    "                data_list.append(word)\n",
    "            list_email.append(data_list)\n",
    "            list_class.append(0)  # 使用0作为正类（正常邮箱）的标签\n",
    "        with open(\"emil/spam/\" + str(i) + \".txt\", 'r') as f:\n",
    "            data_list = []\n",
    "            for word in f.read().split():\n",
    "                for symbol in stop_symbol:\n",
    "                    word = word.replace(symbol, \"\")\n",
    "                if word in stop_word_list:\n",
    "                    continue\n",
    "                data_list.append(word)\n",
    "            list_email.append(data_list)\n",
    "            list_class.append(1)  # 使用1作为负类（垃圾邮箱）的标签\n",
    "        i += 1\n",
    "    return list_email, list_class"
   ]
  },
  {
   "cell_type": "code",
   "execution_count": 3,
   "metadata": {},
   "outputs": [],
   "source": [
    "list_port, list_class = get_data(1, 21)\n",
    "set_values = createVocabList(list_port)  # 生成不重复的词集\n",
    "my_vec_list = []\n",
    "for i in range(40):\n",
    "    my_vec_list.append(bagOfWords2Vec(set_values, list_port[i]))  # 生成对某一个文段生成词袋模型，注意这里每次只生成一个向量"
   ]
  },
  {
   "cell_type": "code",
   "execution_count": 4,
   "metadata": {},
   "outputs": [],
   "source": [
    "bayes = my_bayes()\n",
    "bayes.fit(my_vec_list, list_class)"
   ]
  },
  {
   "cell_type": "code",
   "execution_count": 5,
   "metadata": {},
   "outputs": [
    {
     "name": "stdout",
     "output_type": "stream",
     "text": [
      "[0, 1, 0, 1, 0, 1, 0, 1, 0, 1]\n"
     ]
    }
   ],
   "source": [
    "# 取出样本中剩余的邮件进行处理，并对其进行预测\n",
    "train_port, train_class = get_data(21, 26)\n",
    "train_vec_list = [bagOfWords2Vec(set_values, train_port[i]) for i in range(10)]\n",
    "print(bayes.predict(train_vec_list))"
   ]
  },
  {
   "cell_type": "code",
   "execution_count": 6,
   "metadata": {},
   "outputs": [
    {
     "data": {
      "text/plain": [
       "[0, 1, 0, 1, 0, 1, 0, 1, 0, 1]"
      ]
     },
     "execution_count": 6,
     "metadata": {},
     "output_type": "execute_result"
    }
   ],
   "source": [
    "train_class"
   ]
  },
  {
   "cell_type": "code",
   "execution_count": null,
   "metadata": {},
   "outputs": [],
   "source": []
  }
 ],
 "metadata": {
  "kernelspec": {
   "display_name": "Python 3",
   "language": "python",
   "name": "python3"
  },
  "language_info": {
   "codemirror_mode": {
    "name": "ipython",
    "version": 3
   },
   "file_extension": ".py",
   "mimetype": "text/x-python",
   "name": "python",
   "nbconvert_exporter": "python",
   "pygments_lexer": "ipython3",
   "version": "3.7.3"
  }
 },
 "nbformat": 4,
 "nbformat_minor": 4
}
