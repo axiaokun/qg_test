{
 "cells": [
  {
   "cell_type": "markdown",
   "metadata": {},
   "source": [
    "# 连接数据库"
   ]
  },
  {
   "cell_type": "code",
   "execution_count": 1,
   "metadata": {},
   "outputs": [],
   "source": [
    "import pymysql\n",
    "\n",
    "# 与数据库建立连接\n",
    "connect_obj = pymysql.connect(host='localhost', user='root', password='1231', database='mydata_firsttry', port=3306)\n",
    "cur = connect_obj.cursor()  # 获取游标"
   ]
  },
  {
   "cell_type": "markdown",
   "metadata": {},
   "source": [
    "# 创建数据库表\n",
    "\n",
    "* CREATE TABLE 语句\n",
    "  \n",
    "  创建数据库表，格式：\n",
    "  \n",
    "  CREATE TABLE 表名(\n",
    "  \n",
    "  列名1 数据类型\n",
    "  \n",
    "  列名2 数据类型\n",
    "  \n",
    "  ...\n",
    "  \n",
    "  );\n",
    "  \n",
    "* 常见的一些sql约束\n",
    "\n",
    "  NOT NULL - 指示某列不能存储 NULL 值。\n",
    "  \n",
    "  UNIQUE - 保证某列的每行必须有唯一的值。\n",
    "\n",
    "  PRIMARY KEY - NOT NULL 和 UNIQUE 的结合。确保某列（或两个列多个列的结合）有唯一标识，有助于更容易更快速地找到表中的一个特定的记录。\n",
    "\n",
    "  FOREIGN KEY - 保证一个表中的数据匹配另一个表中的值的参照完整性。\n",
    " \n",
    "  CHECK - 保证列中的值符合指定的条件。\n",
    "\n",
    "  DEFAULT - 规定没有给列赋值时的默认值。\n",
    "  \n",
    "* 注意**使用pymysql创建数据库表，不用像修改表中数据那样最后要commit**"
   ]
  },
  {
   "cell_type": "code",
   "execution_count": 2,
   "metadata": {},
   "outputs": [],
   "source": [
    "sql = \"\"\"\n",
    "    CREATE TABLE USER (\n",
    "    id INT auto_increment PRIMARY KEY ,\n",
    "    name CHAR(10) NOT NULL UNIQUE,\n",
    "    age TINYINT NOT NULL\n",
    "    )\n",
    "\"\"\"\n",
    "try:\n",
    "    cur.execute(sql)\n",
    "except Exception as e:\n",
    "    print(e)\n",
    "    # 发生错误则回滚\n",
    "    connect_obj.rollback()"
   ]
  },
  {
   "cell_type": "markdown",
   "metadata": {},
   "source": [
    "#  INSERT INTO 语句\n",
    "\n",
    "**向表中增加数据**\n",
    "\n",
    "* 格式：\n",
    "\n",
    "  INSERT INTO 表名(列名1， 列名2， 列名3...)\n",
    "  \n",
    "  VALUES(%s, %s, %s...);\n",
    "  \n",
    "* 注意：\n",
    "  \n",
    "  **VALUES统一使用%s**\n",
    "  \n",
    "  **对数据库表进行修改要commit提交修改**\n",
    "  \n",
    "---\n",
    " \n",
    "### 下面是对多个数据进行插入executemany方法"
   ]
  },
  {
   "cell_type": "code",
   "execution_count": 3,
   "metadata": {},
   "outputs": [],
   "source": [
    "# 增:insert into,id是主键自增\n",
    "sql = \"\"\"\n",
    "    INSERT INTO USER(name, age)\n",
    "    VALUES(%s, %s)\n",
    "\"\"\"\n",
    "data = [\n",
    "    (\"Mr.Gu\", 20),\n",
    "    (\"Mr.Li\", 20),\n",
    "    (\"Mr.Lin\", 20),\n",
    "    (\"Mr.Huang\", 17)\n",
    "]\n",
    "try:\n",
    "    # 执行sql语句\n",
    "    cur.executemany(sql, data)\n",
    "    # 提交执行\n",
    "    connect_obj.commit()\n",
    "except Exception as e:\n",
    "    print(e)\n",
    "    # 发生错误则回滚\n",
    "    connect_obj.rollback()"
   ]
  },
  {
   "cell_type": "markdown",
   "metadata": {},
   "source": [
    "###  对单个数据进行插入\n",
    "\n",
    "* 方法execute\n",
    "  \n",
    "  可以将单个数据写进变量sql，也可以像上面的多值插入一样方法中传入两个变量，一个sql语句，一个数据"
   ]
  },
  {
   "cell_type": "code",
   "execution_count": 4,
   "metadata": {},
   "outputs": [],
   "source": [
    "sql = \"\\\n",
    "    INSERT INTO USER(name, age) \\\n",
    "    VALUES('%s', %s)\" % (\"Mr.unknow\", 19)\n",
    "\n",
    "try: \n",
    "    cur.execute(sql)\n",
    "    connect_obj.commit()\n",
    "except Exception as e:\n",
    "    print(e)\n",
    "    connect_obj.rollback()"
   ]
  },
  {
   "cell_type": "markdown",
   "metadata": {},
   "source": [
    "# SELECT 语句\n",
    "\n",
    "**从表中选取数据**\n",
    "\n",
    "* 格式：\n",
    "\n",
    "  1. \"SELECT 列名1, 列名2... FROM 表名;\"\n",
    "  \n",
    "  这种按照列取数据\n",
    "  \n",
    "  2. \"SELECT * FROM 表名;\"\n",
    "  \n",
    "  全部选择\n",
    "\n",
    "### WHERE 子句\n",
    "\n",
    "**WHERE 子句用于提取那些满足指定条件的记录**\n",
    "\n",
    "* 格式：\n",
    "  \n",
    "  \"SELECT * FROM 表名 WHERE 列名 条件;\"\n",
    "  \n",
    "前面选取方法和上面一样还是有两种，然后在后面添加上需要的条件\n",
    "\n",
    "下面的例子中条件就是： age这个数据要等于20\n",
    "\n",
    "### SELECT DISTINCT 语句\n",
    "\n",
    "**SELECT DISTINCT 语句用于返回唯一不同的值。**\n",
    "\n",
    "* 格式：\n",
    "  \n",
    "  SELECT DISTINCT 列名 FROM 表名;\n",
    "  \n",
    "DISTINCT加在选择的列前面\n",
    "\n",
    "如果列名这里改成*试一下好像不行\n",
    "\n",
    "下面给出一个例子"
   ]
  },
  {
   "cell_type": "code",
   "execution_count": 5,
   "metadata": {},
   "outputs": [
    {
     "name": "stdout",
     "output_type": "stream",
     "text": [
      "((1, 'Mr.Gu', 20), (2, 'Mr.Li', 20), (3, 'Mr.Lin', 20))\n",
      "id:1,name:Mr.Gu,age=20\n",
      "id:2,name:Mr.Li,age=20\n",
      "id:3,name:Mr.Lin,age=20\n"
     ]
    }
   ],
   "source": [
    "# 查询:select\n",
    "sql = \"SELECT * FROM USER \\\n",
    "       WHERE age = %d\" % (20)\n",
    "try:\n",
    "   # 执行SQL语句\n",
    "   cur.execute(sql)\n",
    "   # 获取所有记录列表\n",
    "   results = cur.fetchall()\n",
    "   print(results)\n",
    "   for row in results:\n",
    "      id = row[0]\n",
    "      name = row[1]\n",
    "      age = row[2]\n",
    "       # 打印结果\n",
    "      print (\"id:%s,name:%s,age=%d\" % \\\n",
    "              (id, name, age))\n",
    "except Exception as e:\n",
    "    print(e)\n",
    "    print (\"Error: unable to fetch data\")"
   ]
  },
  {
   "cell_type": "code",
   "execution_count": 6,
   "metadata": {},
   "outputs": [
    {
     "name": "stdout",
     "output_type": "stream",
     "text": [
      "((20,), (17,), (19,))\n"
     ]
    }
   ],
   "source": [
    "sql = \"SELECT DISTINCT AGE FROM USER \"\n",
    "\n",
    "try:\n",
    "    cur.execute(sql)\n",
    "    results = cur.fetchall()\n",
    "    print(results)\n",
    "except Exception as e:\n",
    "    print(e)\n"
   ]
  },
  {
   "cell_type": "markdown",
   "metadata": {},
   "source": [
    "# ORDER BY 关键字\n",
    "\n",
    "**ORDER BY 关键字用于对结果集进行排序。**\n",
    "\n",
    "* 格式：\n",
    "\n",
    "  SELECT *\n",
    "\n",
    "  FROM 表名\n",
    "\n",
    "  ORDER BY 列名1，列名2... ASC|DESC;\n",
    "  \n",
    "* 注意：\n",
    "\n",
    "  1.**ASC为升序，DESC为降序**\n",
    "\n",
    "  2.**多字段排序时会按照顺序来，例如我by后面跟是age grade，那么它会先按照age排序，age中有相同的，那么些相同的部分按照grade排序**\n",
    "  \n",
    "下面是一个排序的例子"
   ]
  },
  {
   "cell_type": "code",
   "execution_count": 7,
   "metadata": {},
   "outputs": [
    {
     "name": "stdout",
     "output_type": "stream",
     "text": [
      "((4, 'Mr.Huang', 17), (5, 'Mr.unknow', 19), (1, 'Mr.Gu', 20), (2, 'Mr.Li', 20), (3, 'Mr.Lin', 20))\n"
     ]
    }
   ],
   "source": [
    "sql = \"SELECT * FROM USER\\\n",
    "       ORDER BY AGE ASC\"\n",
    "\n",
    "try:\n",
    "    cur.execute(sql)\n",
    "    results = cur.fetchall()\n",
    "    print(results)\n",
    "except Exception as e:\n",
    "    print(e)"
   ]
  },
  {
   "cell_type": "markdown",
   "metadata": {},
   "source": [
    "# AND & OR 运算符\n",
    "\n",
    "运算符，用法和平时差不多\n",
    "\n",
    "可以用于where后面的条件约束中\n",
    "\n",
    "栗子："
   ]
  },
  {
   "cell_type": "code",
   "execution_count": 8,
   "metadata": {},
   "outputs": [
    {
     "name": "stdout",
     "output_type": "stream",
     "text": [
      "((4, 'Mr.Huang', 17), (5, 'Mr.unknow', 19))\n"
     ]
    }
   ],
   "source": [
    "sql = \"SELECT * FROM USER \\\n",
    "       WHERE age = %d or age = %d\" % (17, 19)  # 取出年龄为19和17的样本\n",
    "\n",
    "try:\n",
    "    cur.execute(sql)\n",
    "    results = cur.fetchall()\n",
    "    print(results)\n",
    "except Exception as e:\n",
    "    print(e)"
   ]
  },
  {
   "cell_type": "markdown",
   "metadata": {},
   "source": [
    "# UPDATE 语句\n",
    "\n",
    "**UPDATE 语句用于更新表中已存在的记录。**\n",
    "\n",
    "* 格式：\n",
    "\n",
    "  UPDATE 表名 \n",
    "  \n",
    "  SET 列名 = 数据... WHERE 列名  约束条件;\n",
    "  \n",
    "* 注意：**如果不加where约束，那么会更新所有数据**"
   ]
  },
  {
   "cell_type": "code",
   "execution_count": 9,
   "metadata": {},
   "outputs": [],
   "source": [
    "# 改：UPDATE\n",
    "sql = \"UPDATE USER SET AGE = AGE + 1 WHERE name = '%s'\" % ('Mr.Gu')\n",
    "try:\n",
    "   # 执行SQL语句\n",
    "   cur.execute(sql)\n",
    "   # 提交到数据库执行\n",
    "   connect_obj.commit()\n",
    "except Exception as e:\n",
    "   print(e)\n",
    "   # 发生错误时回滚\n",
    "   connect_obj.rollback()"
   ]
  },
  {
   "cell_type": "markdown",
   "metadata": {},
   "source": [
    "# DELETE 语句\n",
    "\n",
    "**DELETE 语句用于删除表中的行。**\n",
    "<font color=orange>**注意这里删除的是行**</font>\n",
    "\n",
    "* 格式：\n",
    "\n",
    "  DELETE 表名 \n",
    "  \n",
    "  SET 列名 = 数据... WHERE 列名  约束条件;\n",
    "  \n",
    "和上面的更新差不多"
   ]
  },
  {
   "cell_type": "code",
   "execution_count": 10,
   "metadata": {},
   "outputs": [],
   "source": [
    "# 删：DELETE\n",
    "sql = \"DELETE FROM USER WHERE AGE = %s\" % (19)\n",
    "try:\n",
    "   # 执行SQL语句\n",
    "   cur.execute(sql)\n",
    "   # 提交修改\n",
    "   connect_obj.commit()\n",
    "except Exception as e:\n",
    "    print(e)\n",
    "   # 发生错误时回滚\n",
    "    connect_obj.rollback()"
   ]
  },
  {
   "cell_type": "code",
   "execution_count": 11,
   "metadata": {},
   "outputs": [],
   "source": [
    "# 关闭数据库连接\n",
    "connect_obj.close()"
   ]
  },
  {
   "cell_type": "code",
   "execution_count": null,
   "metadata": {},
   "outputs": [],
   "source": []
  }
 ],
 "metadata": {
  "kernelspec": {
   "display_name": "Python 3",
   "language": "python",
   "name": "python3"
  },
  "language_info": {
   "codemirror_mode": {
    "name": "ipython",
    "version": 3
   },
   "file_extension": ".py",
   "mimetype": "text/x-python",
   "name": "python",
   "nbconvert_exporter": "python",
   "pygments_lexer": "ipython3",
   "version": "3.7.3"
  }
 },
 "nbformat": 4,
 "nbformat_minor": 4
}
