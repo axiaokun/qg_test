{
 "cells": [
  {
   "cell_type": "code",
   "execution_count": 1,
   "metadata": {},
   "outputs": [],
   "source": [
    "import pymysql"
   ]
  },
  {
   "cell_type": "code",
   "execution_count": 2,
   "metadata": {},
   "outputs": [],
   "source": [
    "conn = pymysql.connect(  # 连接本地数据库\n",
    "    host=\"localhost\",\n",
    "    user=\"root\",\n",
    "    password=\"******\", # 填上自己的密码\n",
    "    database=\"web\",\n",
    "    charset=\"utf8\"\n",
    ")\n",
    " \n",
    "cursor = conn.cursor()  # 得到一个可以执行SQL语句的光标对象"
   ]
  },
  {
   "cell_type": "code",
   "execution_count": 3,
   "metadata": {},
   "outputs": [],
   "source": [
    "sql = \"\"\"\n",
    "    CREATE TABLE USER (\n",
    "    id INT auto_increment PRIMARY KEY ,\n",
    "    name CHAR(10) NOT NULL UNIQUE,\n",
    "    age TINYINT NOT NULL\n",
    "    )\n",
    "\"\"\"\n",
    "try:\n",
    "    cursor.execute(sql)\n",
    "except Exception as e:\n",
    "    print(e)\n",
    "    # 发生错误则回滚\n",
    "    conn.rollback()"
   ]
  },
  {
   "cell_type": "markdown",
   "metadata": {},
   "source": [
    "接下来就是增删查改操作"
   ]
  },
  {
   "cell_type": "code",
   "execution_count": 5,
   "metadata": {},
   "outputs": [
    {
     "name": "stdout",
     "output_type": "stream",
     "text": [
      "(1062, \"Duplicate entry 'Mr.Gu' for key 'name'\")\n"
     ]
    }
   ],
   "source": [
    "# 增:insert into,id是主键自增\n",
    "sql = \"\"\"\n",
    "    INSERT INTO USER(name, age)\n",
    "    VALUES(%s, %s)\n",
    "\"\"\"\n",
    "data = [\n",
    "    (\"Mr.Gu\", 20),\n",
    "    (\"Mr.Li\", 20),\n",
    "    (\"Mr.Lin\", 20),\n",
    "    (\"Mr.Huang\", 17)\n",
    "]\n",
    "try:\n",
    "    # 执行sql语句\n",
    "    cursor.executemany(sql, data)\n",
    "    # 提交执行\n",
    "    conn.commit()\n",
    "except Exception as e:\n",
    "    print(e)\n",
    "    # 发生错误则回滚\n",
    "    conn.rollback()"
   ]
  },
  {
   "cell_type": "markdown",
   "metadata": {},
   "source": [
    "单条数据插入/获取插入记录……后续自己实现一下关于增加数据的相关操作。"
   ]
  },
  {
   "cell_type": "markdown",
   "metadata": {},
   "source": [
    "UNIQUE 保证唯一性"
   ]
  },
  {
   "cell_type": "code",
   "execution_count": 8,
   "metadata": {},
   "outputs": [
    {
     "name": "stdout",
     "output_type": "stream",
     "text": [
      "((1, 'Mr.Gu', 20), (2, 'Mr.Li', 20), (3, 'Mr.Lin', 20))\n",
      "id:1,name:Mr.Gu,age=20\n",
      "id:2,name:Mr.Li,age=20\n",
      "id:3,name:Mr.Lin,age=20\n"
     ]
    }
   ],
   "source": [
    "# 查询:select\n",
    "sql = \"SELECT * FROM USER \\\n",
    "       WHERE age = %d\" % (20)\n",
    "try:\n",
    "   # 执行SQL语句\n",
    "   cursor.execute(sql)\n",
    "   # 获取所有记录列表\n",
    "   results = cursor.fetchall()\n",
    "   print(results)\n",
    "   for row in results:\n",
    "      id = row[0]\n",
    "      name = row[1]\n",
    "      age = row[2]\n",
    "       # 打印结果\n",
    "      print (\"id:%s,name:%s,age=%d\" % \\\n",
    "              (id, name, age))\n",
    "except Exception as e:\n",
    "    print(e)\n",
    "    print (\"Error: unable to fetch data\")"
   ]
  },
  {
   "cell_type": "code",
   "execution_count": 9,
   "metadata": {},
   "outputs": [],
   "source": [
    "# 改：UPDATE\n",
    "sql = \"UPDATE USER SET AGE = AGE + 1 WHERE name = '%s'\" % ('Mr.Gu')\n",
    "try:\n",
    "   # 执行SQL语句\n",
    "   cursor.execute(sql)\n",
    "   # 提交到数据库执行\n",
    "   conn.commit()\n",
    "except Exception as e:\n",
    "   print(e)\n",
    "   # 发生错误时回滚\n",
    "   conn.rollback()"
   ]
  },
  {
   "cell_type": "code",
   "execution_count": 10,
   "metadata": {},
   "outputs": [],
   "source": [
    "# 删：DELETE\n",
    "sql = \"DELETE FROM USER WHERE AGE < %s\" % (18)\n",
    "try:\n",
    "   # 执行SQL语句\n",
    "   cursor.execute(sql)\n",
    "   # 提交修改\n",
    "   conn.commit()\n",
    "except Exception as e:\n",
    "    print(e)\n",
    "   # 发生错误时回滚\n",
    "    conn.rollback()"
   ]
  },
  {
   "cell_type": "markdown",
   "metadata": {},
   "source": [
    "以上操作都是十分基础的小例子，只要是为了让大家了解一下python关联数据库的基本操作。大家后续自己查阅相关教程，将相关的操作（包括没讲到）都熟悉一下。（pymysql语法）"
   ]
  }
 ],
 "metadata": {
  "kernelspec": {
   "display_name": "Python 3",
   "language": "python",
   "name": "python3"
  },
  "language_info": {
   "codemirror_mode": {
    "name": "ipython",
    "version": 3
   },
   "file_extension": ".py",
   "mimetype": "text/x-python",
   "name": "python",
   "nbconvert_exporter": "python",
   "pygments_lexer": "ipython3",
   "version": "3.7.3"
  }
 },
 "nbformat": 4,
 "nbformat_minor": 2
}
