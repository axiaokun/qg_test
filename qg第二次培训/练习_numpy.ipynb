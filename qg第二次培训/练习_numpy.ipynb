{
 "cells": [
  {
   "cell_type": "code",
   "execution_count": 1,
   "metadata": {},
   "outputs": [],
   "source": [
    "import numpy as np"
   ]
  },
  {
   "cell_type": "markdown",
   "metadata": {},
   "source": [
    "# np.zeros\n",
    "np.zeros可以创建指定维度的矩阵，并且矩阵中的数据全为零"
   ]
  },
  {
   "cell_type": "code",
   "execution_count": 2,
   "metadata": {},
   "outputs": [
    {
     "data": {
      "text/plain": [
       "array([0., 0., 0., 0., 0., 0., 0., 0., 0., 0.])"
      ]
     },
     "execution_count": 2,
     "metadata": {},
     "output_type": "execute_result"
    }
   ],
   "source": [
    "# Create a null vector of size 10\n",
    "array_10_null = np.zeros(10)\n",
    "array_10_null"
   ]
  },
  {
   "cell_type": "code",
   "execution_count": 3,
   "metadata": {},
   "outputs": [
    {
     "data": {
      "text/plain": [
       "array([0., 0., 0., 0., 1., 0., 0., 0., 0., 0.])"
      ]
     },
     "execution_count": 3,
     "metadata": {},
     "output_type": "execute_result"
    }
   ],
   "source": [
    "# Create a null vector of size 10 but the fifth value which is 1\n",
    "array_10_null_5_1 = np.zeros(10)\n",
    "array_10_null_5_1[4] = 1\n",
    "array_10_null_5_1"
   ]
  },
  {
   "cell_type": "markdown",
   "metadata": {},
   "source": [
    "# np.arange\n",
    "* np.arange 创建指定数字范围内的一维数组，**注意：范围区间为左闭右开，且创建的是整数**\n",
    "\n",
    "* 如果要改变矩阵的形状可以使用reshape函数"
   ]
  },
  {
   "cell_type": "code",
   "execution_count": 4,
   "metadata": {},
   "outputs": [
    {
     "data": {
      "text/plain": [
       "array([10, 11, 12, 13, 14, 15, 16, 17, 18, 19, 20, 21, 22, 23, 24, 25, 26,\n",
       "       27, 28, 29, 30, 31, 32, 33, 34, 35, 36, 37, 38, 39, 40, 41, 42, 43,\n",
       "       44, 45, 46, 47, 48, 49])"
      ]
     },
     "execution_count": 4,
     "metadata": {},
     "output_type": "execute_result"
    }
   ],
   "source": [
    "# Create a vector with values ranging from 10 to 49 \n",
    "array_10_to_49 = np.arange(10, 50)\n",
    "array_10_to_49"
   ]
  },
  {
   "cell_type": "code",
   "execution_count": 5,
   "metadata": {},
   "outputs": [
    {
     "data": {
      "text/plain": [
       "array([[0, 1, 2],\n",
       "       [3, 4, 5],\n",
       "       [6, 7, 8]])"
      ]
     },
     "execution_count": 5,
     "metadata": {},
     "output_type": "execute_result"
    }
   ],
   "source": [
    "# Create a 3x3 matrix with values ranging from 0 to 8 \n",
    "_3_3_array_0_8 = np.arange(9).reshape(3, 3)\n",
    "_3_3_array_0_8"
   ]
  },
  {
   "cell_type": "markdown",
   "metadata": {},
   "source": [
    "# np.random.random\n",
    "\n",
    "np.random.random 创建指定维度的数组，数组中的数值范围全是零到一\n",
    "\n",
    "# max，min\n",
    "\n",
    "* 可以求出矩阵中最大值和最小值\n",
    "\n",
    "* 对函数中参数axis设置为0， 1可以分别求得矩阵中每一列最大值，最小值；每一行最大值和最小值"
   ]
  },
  {
   "cell_type": "code",
   "execution_count": 6,
   "metadata": {},
   "outputs": [
    {
     "data": {
      "text/plain": [
       "(0.0021857137131173765, 0.993609367733265)"
      ]
     },
     "execution_count": 6,
     "metadata": {},
     "output_type": "execute_result"
    }
   ],
   "source": [
    "# Create a 10x10 array with random values and find the minimum and maximum values \n",
    "_10_10_array_ran = np.random.random((10, 10))\n",
    "_min, _max = _10_10_array_ran.min(), _10_10_array_ran.max()\n",
    "_min, _max"
   ]
  },
  {
   "cell_type": "code",
   "execution_count": 7,
   "metadata": {},
   "outputs": [
    {
     "data": {
      "text/plain": [
       "array([[1., 0., 1.],\n",
       "       [1., 0., 1.],\n",
       "       [1., 0., 1.]])"
      ]
     },
     "execution_count": 7,
     "metadata": {},
     "output_type": "execute_result"
    }
   ],
   "source": [
    "# Create a 2d array with 1 on the border and 0 inside\n",
    "array_border_1 = np.zeros((3, 3))\n",
    "array_border_1[:, 0] = 1\n",
    "array_border_1[:, -1] = 1\n",
    "array_border_1"
   ]
  },
  {
   "cell_type": "code",
   "execution_count": 8,
   "metadata": {},
   "outputs": [
    {
     "data": {
      "text/plain": [
       "array([[ 22,  28],\n",
       "       [ 49,  64],\n",
       "       [ 76, 100],\n",
       "       [103, 136],\n",
       "       [130, 172]])"
      ]
     },
     "execution_count": 8,
     "metadata": {},
     "output_type": "execute_result"
    }
   ],
   "source": [
    "#  Multiply a 5x3 matrix by a 3x2 matrix (real matrix product)\n",
    "array_5_3, array_3_2 = np.arange(1, 16).reshape(5, 3), np.arange(1, 7).reshape(3, 2)\n",
    "array_5_3.dot(array_3_2)"
   ]
  },
  {
   "cell_type": "code",
   "execution_count": 9,
   "metadata": {},
   "outputs": [],
   "source": [
    "import pandas as pd"
   ]
  },
  {
   "cell_type": "code",
   "execution_count": 10,
   "metadata": {},
   "outputs": [],
   "source": [
    "# Create df with labels as index\n",
    "data = {'animal': ['cat', 'cat', 'snake', 'dog', 'dog', 'cat', 'snake', 'cat', 'dog', 'dog'],\n",
    "        'age': [2.5, 3, 0.5, np.nan, 5, 2, 4.5, np.nan, 7, 3],\n",
    "        'visits': [1, 3, 2, 3, 2, 3, 1, 1, 2, 1],\n",
    "        'priority': ['yes', 'yes', 'no', 'yes', 'no', 'no', 'no', 'yes', 'no', 'no']}\n",
    "\n",
    "labels = ['a', 'b', 'c', 'd', 'e', 'f', 'g', 'h', 'i', 'j']\n",
    "df_c_labels = pd.DataFrame(data, index=labels)"
   ]
  },
  {
   "cell_type": "markdown",
   "metadata": {},
   "source": [
    "# describe()、info()\n",
    "\n",
    "这两个方法都可以查询DataFrame数据的大概情况"
   ]
  },
  {
   "cell_type": "code",
   "execution_count": 11,
   "metadata": {},
   "outputs": [
    {
     "name": "stdout",
     "output_type": "stream",
     "text": [
      "<class 'pandas.core.frame.DataFrame'>\n",
      "Index: 10 entries, a to j\n",
      "Data columns (total 4 columns):\n",
      " #   Column    Non-Null Count  Dtype  \n",
      "---  ------    --------------  -----  \n",
      " 0   animal    10 non-null     object \n",
      " 1   age       8 non-null      float64\n",
      " 2   visits    10 non-null     int64  \n",
      " 3   priority  10 non-null     object \n",
      "dtypes: float64(1), int64(1), object(2)\n",
      "memory usage: 280.0+ bytes\n"
     ]
    },
    {
     "data": {
      "text/plain": [
       "(  animal  age  visits priority\n",
       " a    cat  2.5       1      yes\n",
       " b    cat  3.0       3      yes\n",
       " c  snake  0.5       2       no\n",
       " d    dog  NaN       3      yes\n",
       " e    dog  5.0       2       no\n",
       " f    cat  2.0       3       no\n",
       " g  snake  4.5       1       no\n",
       " h    cat  NaN       1      yes\n",
       " i    dog  7.0       2       no\n",
       " j    dog  3.0       1       no,\n",
       "             age     visits\n",
       " count  8.000000  10.000000\n",
       " mean   3.437500   1.900000\n",
       " std    2.007797   0.875595\n",
       " min    0.500000   1.000000\n",
       " 25%    2.375000   1.000000\n",
       " 50%    3.000000   2.000000\n",
       " 75%    4.625000   2.750000\n",
       " max    7.000000   3.000000,\n",
       " None)"
      ]
     },
     "execution_count": 11,
     "metadata": {},
     "output_type": "execute_result"
    }
   ],
   "source": [
    "# Show df basic information and its data\n",
    "df_c_labels, df_c_labels.describe(), df_c_labels.info()"
   ]
  },
  {
   "cell_type": "code",
   "execution_count": 12,
   "metadata": {},
   "outputs": [
    {
     "data": {
      "text/plain": [
       "(a    2.5\n",
       " b    3.0\n",
       " c    0.5\n",
       " d    NaN\n",
       " e    5.0\n",
       " f    2.0\n",
       " g    4.5\n",
       " h    NaN\n",
       " i    7.0\n",
       " j    3.0\n",
       " Name: age, dtype: float64,\n",
       " a      cat\n",
       " b      cat\n",
       " c    snake\n",
       " d      dog\n",
       " e      dog\n",
       " f      cat\n",
       " g    snake\n",
       " h      cat\n",
       " i      dog\n",
       " j      dog\n",
       " Name: animal, dtype: object)"
      ]
     },
     "execution_count": 12,
     "metadata": {},
     "output_type": "execute_result"
    }
   ],
   "source": [
    "# Select only the 'animal' and 'age' columns\n",
    "df_c_labels['age'],df_c_labels['animal'] "
   ]
  },
  {
   "cell_type": "markdown",
   "metadata": {},
   "source": [
    "# 查询含有缺失值的行\n",
    "\n",
    "* df.isnull()可以对数据中的值进行判断，若为缺失值那么会被标志为True，否则False。于是得出的结果是和原来数据规模一样的bool类型的DataFrame。\n",
    "\n",
    "* 在得到bool类型后的DataFrame后使用values得出array矩阵，将它作为引索取出含有缺失值的行"
   ]
  },
  {
   "cell_type": "code",
   "execution_count": 13,
   "metadata": {},
   "outputs": [
    {
     "data": {
      "text/plain": [
       "(  animal  age  visits priority\n",
       " d    dog  NaN       3      yes\n",
       " h    cat  NaN       1      yes,\n",
       "    animal    age  visits  priority\n",
       " a   False  False   False     False\n",
       " b   False  False   False     False\n",
       " c   False  False   False     False\n",
       " d   False   True   False     False\n",
       " e   False  False   False     False\n",
       " f   False  False   False     False\n",
       " g   False  False   False     False\n",
       " h   False   True   False     False\n",
       " i   False  False   False     False\n",
       " j   False  False   False     False)"
      ]
     },
     "execution_count": 13,
     "metadata": {},
     "output_type": "execute_result"
    }
   ],
   "source": [
    "# Select the row with missing value\n",
    "df_c_labels[df_c_labels.isnull().values], df_c_labels.isnull()"
   ]
  },
  {
   "cell_type": "markdown",
   "metadata": {},
   "source": [
    "# sort_values\n",
    "pandas中一般排序用到是sort_values，参数ascending可以设置True或False来控制是降序还是升序，inplace控制是否替换原来的数据（这个参数pandas中很多函数都有，意思也是一样的）"
   ]
  },
  {
   "cell_type": "code",
   "execution_count": 14,
   "metadata": {},
   "outputs": [
    {
     "name": "stdout",
     "output_type": "stream",
     "text": [
      "降序\n",
      "  animal  age  visits priority\n",
      "c  snake  0.5       2       no\n",
      "f    cat  2.0       3       no\n",
      "a    cat  2.5       1      yes\n",
      "b    cat  3.0       3      yes\n",
      "j    dog  3.0       1       no\n",
      "g  snake  4.5       1       no\n",
      "e    dog  5.0       2       no\n",
      "i    dog  7.0       2       no\n",
      "d    dog  NaN       3      yes\n",
      "h    cat  NaN       1      yes\n",
      "升序\n",
      "  animal  age  visits priority\n",
      "i    dog  7.0       2       no\n",
      "e    dog  5.0       2       no\n",
      "g  snake  4.5       1       no\n",
      "b    cat  3.0       3      yes\n",
      "j    dog  3.0       1       no\n",
      "a    cat  2.5       1      yes\n",
      "f    cat  2.0       3       no\n",
      "c  snake  0.5       2       no\n",
      "d    dog  NaN       3      yes\n",
      "h    cat  NaN       1      yes\n"
     ]
    }
   ],
   "source": [
    "# Sort DF in descending age and ascending visit order\n",
    "df_c_labels.sort_values(\"age\",inplace=True, ascending=True)\n",
    "print(\"降序\")\n",
    "print(df_c_labels)\n",
    "\n",
    "df_c_labels.sort_values(\"age\",inplace=True, ascending=False)\n",
    "print(\"升序\")\n",
    "print(df_c_labels)"
   ]
  },
  {
   "cell_type": "markdown",
   "metadata": {},
   "source": [
    "# replace\n",
    "replace可以替换一列中的值也可以在整个数据中替换"
   ]
  },
  {
   "cell_type": "code",
   "execution_count": 15,
   "metadata": {},
   "outputs": [
    {
     "data": {
      "text/html": [
       "<div>\n",
       "<style scoped>\n",
       "    .dataframe tbody tr th:only-of-type {\n",
       "        vertical-align: middle;\n",
       "    }\n",
       "\n",
       "    .dataframe tbody tr th {\n",
       "        vertical-align: top;\n",
       "    }\n",
       "\n",
       "    .dataframe thead th {\n",
       "        text-align: right;\n",
       "    }\n",
       "</style>\n",
       "<table border=\"1\" class=\"dataframe\">\n",
       "  <thead>\n",
       "    <tr style=\"text-align: right;\">\n",
       "      <th></th>\n",
       "      <th>animal</th>\n",
       "      <th>age</th>\n",
       "      <th>visits</th>\n",
       "      <th>priority</th>\n",
       "    </tr>\n",
       "  </thead>\n",
       "  <tbody>\n",
       "    <tr>\n",
       "      <th>i</th>\n",
       "      <td>dog</td>\n",
       "      <td>7.0</td>\n",
       "      <td>2</td>\n",
       "      <td>no</td>\n",
       "    </tr>\n",
       "    <tr>\n",
       "      <th>e</th>\n",
       "      <td>dog</td>\n",
       "      <td>5.0</td>\n",
       "      <td>2</td>\n",
       "      <td>no</td>\n",
       "    </tr>\n",
       "    <tr>\n",
       "      <th>g</th>\n",
       "      <td>python</td>\n",
       "      <td>4.5</td>\n",
       "      <td>1</td>\n",
       "      <td>no</td>\n",
       "    </tr>\n",
       "    <tr>\n",
       "      <th>b</th>\n",
       "      <td>cat</td>\n",
       "      <td>3.0</td>\n",
       "      <td>3</td>\n",
       "      <td>yes</td>\n",
       "    </tr>\n",
       "    <tr>\n",
       "      <th>j</th>\n",
       "      <td>dog</td>\n",
       "      <td>3.0</td>\n",
       "      <td>1</td>\n",
       "      <td>no</td>\n",
       "    </tr>\n",
       "    <tr>\n",
       "      <th>a</th>\n",
       "      <td>cat</td>\n",
       "      <td>2.5</td>\n",
       "      <td>1</td>\n",
       "      <td>yes</td>\n",
       "    </tr>\n",
       "    <tr>\n",
       "      <th>f</th>\n",
       "      <td>cat</td>\n",
       "      <td>2.0</td>\n",
       "      <td>3</td>\n",
       "      <td>no</td>\n",
       "    </tr>\n",
       "    <tr>\n",
       "      <th>c</th>\n",
       "      <td>python</td>\n",
       "      <td>0.5</td>\n",
       "      <td>2</td>\n",
       "      <td>no</td>\n",
       "    </tr>\n",
       "    <tr>\n",
       "      <th>d</th>\n",
       "      <td>dog</td>\n",
       "      <td>NaN</td>\n",
       "      <td>3</td>\n",
       "      <td>yes</td>\n",
       "    </tr>\n",
       "    <tr>\n",
       "      <th>h</th>\n",
       "      <td>cat</td>\n",
       "      <td>NaN</td>\n",
       "      <td>1</td>\n",
       "      <td>yes</td>\n",
       "    </tr>\n",
       "  </tbody>\n",
       "</table>\n",
       "</div>"
      ],
      "text/plain": [
       "   animal  age  visits priority\n",
       "i     dog  7.0       2       no\n",
       "e     dog  5.0       2       no\n",
       "g  python  4.5       1       no\n",
       "b     cat  3.0       3      yes\n",
       "j     dog  3.0       1       no\n",
       "a     cat  2.5       1      yes\n",
       "f     cat  2.0       3       no\n",
       "c  python  0.5       2       no\n",
       "d     dog  NaN       3      yes\n",
       "h     cat  NaN       1      yes"
      ]
     },
     "execution_count": 15,
     "metadata": {},
     "output_type": "execute_result"
    }
   ],
   "source": [
    "# In the 'animal' column, replace 'Snake' with 'Python'\n",
    "df_c_labels['animal'].replace('snake', 'python', inplace=True)\n",
    "df_c_labels"
   ]
  },
  {
   "cell_type": "markdown",
   "metadata": {},
   "source": [
    "# 下面是绘制图形部分\n",
    "\n",
    "## 第一步，加载数据集后先观察数据的一些大概的情况"
   ]
  },
  {
   "cell_type": "code",
   "execution_count": 16,
   "metadata": {},
   "outputs": [
    {
     "name": "stdout",
     "output_type": "stream",
     "text": [
      "<class 'pandas.core.frame.DataFrame'>\n",
      "RangeIndex: 150 entries, 0 to 149\n",
      "Data columns (total 5 columns):\n",
      " #   Column        Non-Null Count  Dtype  \n",
      "---  ------        --------------  -----  \n",
      " 0   sepal_length  150 non-null    float64\n",
      " 1   sepal_width   150 non-null    float64\n",
      " 2   petal_length  150 non-null    float64\n",
      " 3   petal_width   150 non-null    float64\n",
      " 4   species       150 non-null    object \n",
      "dtypes: float64(4), object(1)\n",
      "memory usage: 5.3+ KB\n"
     ]
    },
    {
     "data": {
      "text/plain": [
       "(None,\n",
       "        sepal_length  sepal_width  petal_length  petal_width\n",
       " count    150.000000   150.000000    150.000000   150.000000\n",
       " mean       5.843333     3.057333      3.758000     1.199333\n",
       " std        0.828066     0.435866      1.765298     0.762238\n",
       " min        4.300000     2.000000      1.000000     0.100000\n",
       " 25%        5.100000     2.800000      1.600000     0.300000\n",
       " 50%        5.800000     3.000000      4.350000     1.300000\n",
       " 75%        6.400000     3.300000      5.100000     1.800000\n",
       " max        7.900000     4.400000      6.900000     2.500000,\n",
       "    sepal_length  sepal_width  petal_length  petal_width species\n",
       " 0           5.1          3.5           1.4          0.2  setosa\n",
       " 1           4.9          3.0           1.4          0.2  setosa\n",
       " 2           4.7          3.2           1.3          0.2  setosa\n",
       " 3           4.6          3.1           1.5          0.2  setosa\n",
       " 4           5.0          3.6           1.4          0.2  setosa)"
      ]
     },
     "execution_count": 16,
     "metadata": {},
     "output_type": "execute_result"
    }
   ],
   "source": [
    "\"\"\"\n",
    "Requirement：\n",
    "\n",
    "\t1. Size relationship between sepal and petal (scatter diagram)\n",
    " \t2. The size relationship between sepals and petals of iris of different species\n",
    " \t3. Distribution of sepals and petal sizes of different Iris species (box diagram)\n",
    "\"\"\"\n",
    "import seaborn as sns\n",
    "import matplotlib.pyplot as plt\n",
    "%matplotlib inline\n",
    "data = sns.load_dataset(\"iris\")  # 理解数据的具体情况\n",
    "data.info(),data.describe(), data.head()"
   ]
  },
  {
   "cell_type": "markdown",
   "metadata": {},
   "source": [
    "## 绘制萼片与花瓣的大小关系（散点图），也就是第一个要求点。\n",
    "\n",
    "* 这里使用到所有样本的数据，这里的大小是绘制观察萼片与花瓣在长度和宽度上的关系"
   ]
  },
  {
   "cell_type": "code",
   "execution_count": 17,
   "metadata": {},
   "outputs": [
    {
     "data": {
      "text/plain": [
       "<matplotlib.collections.PathCollection at 0x1c00d510>"
      ]
     },
     "execution_count": 17,
     "metadata": {},
     "output_type": "execute_result"
    },
    {
     "data": {
      "image/png": "[encoded data removed]",
      "text/plain": [
       "<Figure size 864x432 with 2 Axes>"
      ]
     },
     "metadata": {
      "needs_background": "light"
     },
     "output_type": "display_data"
    }
   ],
   "source": [
    "X_sepal_w, X_petal_w =data['sepal_width'], data['petal_width']\n",
    "X_sepal_l, X_petal_l = data['sepal_length'], data['petal_length']\n",
    "plt.figure(figsize=(12, 6))\n",
    "plt.subplot(121)\n",
    "plt.title('width')\n",
    "plt.xlabel(\"sepal\")\n",
    "plt.ylabel(\"petal\")\n",
    "plt.scatter(X_sepal_w, X_petal_w, marker='o', color='g')\n",
    "plt.subplot(122)\n",
    "plt.title('length')\n",
    "plt.xlabel(\"sepal\")\n",
    "plt.ylabel(\"petal\")\n",
    "plt.scatter(X_sepal_l, X_petal_l, marker='+', color='r')"
   ]
  },
  {
   "cell_type": "code",
   "execution_count": 18,
   "metadata": {},
   "outputs": [
    {
     "data": {
      "text/plain": [
       "({'setosa', 'versicolor', 'virginica'}, 3)"
      ]
     },
     "execution_count": 18,
     "metadata": {},
     "output_type": "execute_result"
    }
   ],
   "source": [
    "species_set = set(data['species'].values)  # 观察类别标签这一列一共有多少种类\n",
    "species_set, len(species_set)"
   ]
  },
  {
   "cell_type": "markdown",
   "metadata": {},
   "source": [
    "## 绘制species种类的萼片与花瓣的大小关系"
   ]
  },
  {
   "cell_type": "code",
   "execution_count": 19,
   "metadata": {},
   "outputs": [
    {
     "data": {
      "text/plain": [
       "<matplotlib.collections.PathCollection at 0x1c086650>"
      ]
     },
     "execution_count": 19,
     "metadata": {},
     "output_type": "execute_result"
    },
    {
     "data": {
      "image/png": "[encoded data removed]",
      "text/plain": [
       "<Figure size 864x432 with 2 Axes>"
      ]
     },
     "metadata": {
      "needs_background": "light"
     },
     "output_type": "display_data"
    }
   ],
   "source": [
    "X_sepal_w, X_petal_w =data[data['species'] == 'setosa']['sepal_width'], data[data['species'] == 'setosa']['petal_width']\n",
    "X_sepal_l, X_petal_l = data[data['species'] == 'setosa']['sepal_length'], data[data['species'] == 'setosa']['petal_length']\n",
    "plt.figure(figsize=(12, 6))\n",
    "plt.subplot(121)\n",
    "plt.title('setosa_width')\n",
    "plt.xlabel(\"sepal\")\n",
    "plt.ylabel(\"petal\")\n",
    "plt.scatter(X_sepal_w, X_petal_w, marker='o', color='g')\n",
    "plt.subplot(122)\n",
    "plt.title('setosa_length')\n",
    "plt.xlabel(\"sepal\")\n",
    "plt.ylabel(\"petal\")\n",
    "plt.scatter(X_sepal_l, X_petal_l, marker='+', color='r')"
   ]
  },
  {
   "cell_type": "markdown",
   "metadata": {},
   "source": [
    "## 绘制versicolor种类的萼片与花瓣的大小关系"
   ]
  },
  {
   "cell_type": "code",
   "execution_count": 20,
   "metadata": {},
   "outputs": [
    {
     "data": {
      "text/plain": [
       "<matplotlib.collections.PathCollection at 0x1c0f7eb0>"
      ]
     },
     "execution_count": 20,
     "metadata": {},
     "output_type": "execute_result"
    },
    {
     "data": {
      "image/png": "[encoded data removed]",
      "text/plain": [
       "<Figure size 864x432 with 2 Axes>"
      ]
     },
     "metadata": {
      "needs_background": "light"
     },
     "output_type": "display_data"
    }
   ],
   "source": [
    "X_sepal_w, X_petal_w =data[data['species'] == 'versicolor']['sepal_width'], data[data['species'] == 'versicolor']['petal_width']\n",
    "X_sepal_l, X_petal_l = data[data['species'] == 'versicolor']['sepal_length'], data[data['species'] == 'versicolor']['petal_length']\n",
    "plt.figure(figsize=(12, 6))\n",
    "plt.subplot(121)\n",
    "plt.title('versicolor_width')\n",
    "plt.xlabel(\"sepal\")\n",
    "plt.ylabel(\"petal\")\n",
    "plt.scatter(X_sepal_w, X_petal_w, marker='o', color='g')\n",
    "plt.subplot(122)\n",
    "plt.title('versicolor_length')\n",
    "plt.xlabel(\"sepal\")\n",
    "plt.ylabel(\"petal\")\n",
    "plt.scatter(X_sepal_l, X_petal_l, marker='+', color='r')"
   ]
  },
  {
   "cell_type": "markdown",
   "metadata": {},
   "source": [
    "## 绘制virginica种类的萼片与花瓣的大小关系"
   ]
  },
  {
   "cell_type": "code",
   "execution_count": 21,
   "metadata": {},
   "outputs": [
    {
     "data": {
      "text/plain": [
       "<matplotlib.collections.PathCollection at 0x1c176470>"
      ]
     },
     "execution_count": 21,
     "metadata": {},
     "output_type": "execute_result"
    },
    {
     "data": {
      "image/png": "[encoded data removed]",
      "text/plain": [
       "<Figure size 864x432 with 2 Axes>"
      ]
     },
     "metadata": {
      "needs_background": "light"
     },
     "output_type": "display_data"
    }
   ],
   "source": [
    "X_sepal_w, X_petal_w =data[data['species'] == 'virginica']['sepal_width'], data[data['species'] == 'virginica']['petal_width']\n",
    "X_sepal_l, X_petal_l = data[data['species'] == 'virginica']['sepal_length'], data[data['species'] == 'virginica']['petal_length']\n",
    "plt.figure(figsize=(12, 6))\n",
    "plt.subplot(121)\n",
    "plt.title('virginica_width')\n",
    "plt.xlabel(\"sepal\")\n",
    "plt.ylabel(\"petal\")\n",
    "plt.scatter(X_sepal_w, X_petal_w, marker='o', color='g')\n",
    "plt.subplot(122)\n",
    "plt.title('virginica_length')\n",
    "plt.xlabel(\"sepal\")\n",
    "plt.ylabel(\"petal\")\n",
    "plt.scatter(X_sepal_l, X_petal_l, marker='+', color='r')"
   ]
  },
  {
   "cell_type": "markdown",
   "metadata": {},
   "source": [
    "## 使用DataFrame.boxplot绘制箱型图\n",
    "\n",
    "这里使用DataFrame自带的boxplot绘制箱型图，其中column指定绘制的数值，可以多个；by是分组依据，像这里有三种类别于是每一个图中都有绘制出三个箱子；figsize指定画布大小，根据需求设置。"
   ]
  },
  {
   "cell_type": "code",
   "execution_count": 22,
   "metadata": {},
   "outputs": [
    {
     "data": {
      "text/plain": [
       "array([[<matplotlib.axes._subplots.AxesSubplot object at 0x1AF85670>,\n",
       "        <matplotlib.axes._subplots.AxesSubplot object at 0x1C350CB0>],\n",
       "       [<matplotlib.axes._subplots.AxesSubplot object at 0x1C372BD0>,\n",
       "        <matplotlib.axes._subplots.AxesSubplot object at 0x1C393AF0>]],\n",
       "      dtype=object)"
      ]
     },
     "execution_count": 22,
     "metadata": {},
     "output_type": "execute_result"
    },
    {
     "data": {
      "image/png": "[encoded data removed]",
      "text/plain": [
       "<Figure size 720x720 with 4 Axes>"
      ]
     },
     "metadata": {
      "needs_background": "light"
     },
     "output_type": "display_data"
    }
   ],
   "source": [
    "data.boxplot(column=['sepal_width','petal_width', 'sepal_length', 'petal_length'], by=['species'], figsize=(10, 10))"
   ]
  },
  {
   "cell_type": "code",
   "execution_count": null,
   "metadata": {},
   "outputs": [],
   "source": []
  }
 ],
 "metadata": {
  "kernelspec": {
   "display_name": "Python 3",
   "language": "python",
   "name": "python3"
  },
  "language_info": {
   "codemirror_mode": {
    "name": "ipython",
    "version": 3
   },
   "file_extension": ".py",
   "mimetype": "text/x-python",
   "name": "python",
   "nbconvert_exporter": "python",
   "pygments_lexer": "ipython3",
   "version": "3.7.3"
  }
 },
 "nbformat": 4,
 "nbformat_minor": 4
}
